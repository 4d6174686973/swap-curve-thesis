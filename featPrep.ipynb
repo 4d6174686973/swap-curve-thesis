{
 "cells": [
  {
   "cell_type": "markdown",
   "metadata": {},
   "source": [
    "# Imports"
   ]
  },
  {
   "cell_type": "code",
   "execution_count": null,
   "metadata": {},
   "outputs": [],
   "source": [
    "# Basic Utils\n",
    "import pandas as pd\n",
    "import numpy as np\n",
    "import os\n",
    "\n",
    "# Plotting\n",
    "import plotly.express as px\n",
    "import plotly.graph_objects as go\n",
    "import matplotlib.pyplot as plt\n",
    "\n",
    "# Methods from de Prado\n",
    "from deprado import *"
   ]
  },
  {
   "cell_type": "markdown",
   "metadata": {},
   "source": [
    "# Read Raw Data\n",
    "- All data from refinitiv was previously loaded and combined.\n",
    "- The data was previously resampled to daily frequency using the forwardfill technique\n",
    "- In this notebook we apply fractional differentiation and the standard scaler to obtain the finaly feature space"
   ]
  },
  {
   "cell_type": "code",
   "execution_count": null,
   "metadata": {},
   "outputs": [],
   "source": [
    "eco = pd.read_parquet(f'data/eco_raw.parquet')\n",
    "eco.head()"
   ]
  },
  {
   "cell_type": "markdown",
   "metadata": {},
   "source": [
    "# Compute Money Velocity"
   ]
  },
  {
   "cell_type": "code",
   "execution_count": null,
   "metadata": {},
   "outputs": [],
   "source": [
    "eco['M1 Money Velocity'] = eco['GDP'] / eco['M1 Money Supply']\n",
    "eco['M2 Money Velocity'] = eco['GDP'] / eco['M2 Money Supply']"
   ]
  },
  {
   "cell_type": "markdown",
   "metadata": {},
   "source": [
    "# Fractional Differentiation\n",
    "- apply fracdiff by calling getMinFFD from deprado.py\n",
    "- this step takes a few minutes\n",
    "- out saved the optimal fracdiff coefficients\n",
    "- stats saved the summary statistics of all features"
   ]
  },
  {
   "cell_type": "code",
   "execution_count": null,
   "metadata": {},
   "outputs": [],
   "source": [
    "stats, out = getMinFFD(eco)"
   ]
  },
  {
   "cell_type": "code",
   "execution_count": null,
   "metadata": {},
   "outputs": [],
   "source": [
    "# plot example adf values for each d of one feature\n",
    "adfstats = stats[7]\n",
    "plt.style.use(['science','ieee','no-latex'])\n",
    "plt.figure()\n",
    "plt.plot(adfstats['adfStat'])\n",
    "plt.hlines(adfstats['95% conf'].mean(), xmin=0, xmax=1, color='black', linestyles='dashed')\n",
    "plt.legend(['ADF Statistic', '95% Confidence Interval'])\n",
    "plt.xlabel('d')\n",
    "plt.ylabel('ADF Statistic')\n",
    "plt.show()"
   ]
  },
  {
   "cell_type": "code",
   "execution_count": null,
   "metadata": {},
   "outputs": [],
   "source": [
    "# compute all fractional differenced time series with optimal d\n",
    "ecoFFD = pd.DataFrame()\n",
    "i = 0\n",
    "for col in eco:\n",
    "    ecoFFD[col] = fracDiff_FFD(pd.DataFrame(eco[col]), out[i], thres=.01)\n",
    "    i += 1\n",
    "\n",
    "ecoFFD.dropna(inplace=True)"
   ]
  },
  {
   "cell_type": "markdown",
   "metadata": {},
   "source": [
    "# Apply Standard Scaler"
   ]
  },
  {
   "cell_type": "code",
   "execution_count": null,
   "metadata": {},
   "outputs": [],
   "source": [
    "from sklearn.preprocessing import StandardScaler\n",
    "\n",
    "data = ecoFFD.copy().dropna()\n",
    "\n",
    "scaler = StandardScaler()\n",
    "scaler.fit(data)\n",
    "X = scaler.transform(data)\n",
    "X = pd.DataFrame(X, columns=data.columns, index=data.index)\n",
    "fig = px.line(X, title='FracDiff Feature Space + Standard Scaler')\n",
    "fig.show()\n"
   ]
  },
  {
   "cell_type": "markdown",
   "metadata": {},
   "source": [
    "Finally the data was saved as features.parquet"
   ]
  }
 ],
 "metadata": {
  "kernelspec": {
   "display_name": "Python 3",
   "language": "python",
   "name": "python3"
  },
  "language_info": {
   "codemirror_mode": {
    "name": "ipython",
    "version": 3
   },
   "file_extension": ".py",
   "mimetype": "text/x-python",
   "name": "python",
   "nbconvert_exporter": "python",
   "pygments_lexer": "ipython3",
   "version": "3.11.2"
  },
  "orig_nbformat": 4
 },
 "nbformat": 4,
 "nbformat_minor": 2
}
